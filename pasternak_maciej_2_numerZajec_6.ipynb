{
  "nbformat": 4,
  "nbformat_minor": 0,
  "metadata": {
    "colab": {
      "provenance": []
    },
    "kernelspec": {
      "name": "python3",
      "display_name": "Python 3"
    },
    "language_info": {
      "name": "python"
    }
  },
  "cells": [
    {
      "cell_type": "code",
      "execution_count": 2,
      "metadata": {
        "id": "Cgu-bobF2vp8"
      },
      "outputs": [],
      "source": [
        "import pandas as pd\n",
        "import numpy\n",
        "import matplotlib"
      ]
    },
    {
      "cell_type": "code",
      "source": [
        "df_tab = pd.read_csv(\"/content/train.csv\")"
      ],
      "metadata": {
        "id": "CfGuJtqI20Tj"
      },
      "execution_count": 3,
      "outputs": []
    },
    {
      "cell_type": "code",
      "source": [
        "def rizz(sex):\n",
        "  if sex == \"male\":\n",
        "    return 0\n",
        "  elif sex ==\"female\":\n",
        "    return 1\n",
        "  else:\n",
        "    return \"null\""
      ],
      "metadata": {
        "id": "giEzklGj3qLK"
      },
      "execution_count": 5,
      "outputs": []
    },
    {
      "cell_type": "code",
      "source": [
        "df_tab[\"Sex2\"] = df_tab[\"Sex\"].apply(rizz)"
      ],
      "metadata": {
        "id": "GANufXrY31GB"
      },
      "execution_count": 7,
      "outputs": []
    },
    {
      "cell_type": "code",
      "source": [
        "df_tab"
      ],
      "metadata": {
        "id": "FIZQD7pS4ILd"
      },
      "execution_count": null,
      "outputs": []
    }
  ]
}