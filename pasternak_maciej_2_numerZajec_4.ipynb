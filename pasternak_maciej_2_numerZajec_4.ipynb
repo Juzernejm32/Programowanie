{
  "nbformat": 4,
  "nbformat_minor": 0,
  "metadata": {
    "colab": {
      "provenance": []
    },
    "kernelspec": {
      "name": "python3",
      "display_name": "Python 3"
    },
    "language_info": {
      "name": "python"
    }
  },
  "cells": [
    {
      "cell_type": "markdown",
      "source": [
        "#Zadanie 1"
      ],
      "metadata": {
        "id": "_5-74Ye6FyTP"
      }
    },
    {
      "cell_type": "code",
      "execution_count": 1,
      "metadata": {
        "id": "wf1bntbaFwGI",
        "colab": {
          "base_uri": "https://localhost:8080/"
        },
        "outputId": "650935b4-a4a9-42b9-be2d-9a12d6684d95"
      },
      "outputs": [
        {
          "output_type": "stream",
          "name": "stdout",
          "text": [
            "Podaj liczbę rzędów e\n",
            "error\n"
          ]
        }
      ],
      "source": [
        "rows = input(\"Podaj liczbę rzędów \")\n",
        "if rows.isdigit():\n",
        "  rows = int(rows)\n",
        "  if rows >= 100:\n",
        "    print(\"error1\")\n",
        "    raise RuntimeError(\"za duży numer\")\n",
        "  for rows_number in range(rows):\n",
        "    for i in range(rows_number + 1):\n",
        "      print(i + 1,end=\"\")\n",
        "    print()\n",
        "else:\n",
        "  print(\"error\")"
      ]
    },
    {
      "cell_type": "markdown",
      "source": [
        "#Zadanie 2"
      ],
      "metadata": {
        "id": "T22RnAeCF5Xe"
      }
    },
    {
      "cell_type": "code",
      "source": [
        "numer = 2\n",
        "for i in range(10):\n",
        "  if i <= 5:\n",
        "    for c in range(i):\n",
        "      print(\"*\", end = \"\")\n",
        "    print()\n",
        "  elif i > 5:\n",
        "    for b in range(i - numer):\n",
        "      print(\"*\", end = \"\")\n",
        "    numer += 2\n",
        "    print()"
      ],
      "metadata": {
        "id": "oRe6-lfiF_YW",
        "colab": {
          "base_uri": "https://localhost:8080/"
        },
        "outputId": "c624fae6-6f1b-4cdf-b5db-83f1b8a108fa"
      },
      "execution_count": 2,
      "outputs": [
        {
          "output_type": "stream",
          "name": "stdout",
          "text": [
            "\n",
            "*\n",
            "**\n",
            "***\n",
            "****\n",
            "*****\n",
            "****\n",
            "***\n",
            "**\n",
            "*\n"
          ]
        }
      ]
    },
    {
      "cell_type": "markdown",
      "source": [
        "#Zadanie 3"
      ],
      "metadata": {
        "id": "r8VnIfjrF8vq"
      }
    },
    {
      "cell_type": "code",
      "source": [
        "#podpunkt a\n",
        "lista = [6, 2, 3, 7, 1, 12, 56, 99]\n",
        "for i in range(len(lista)):\n",
        "    if lista[i] >= 10 and lista[i] <= 99:\n",
        "        lista[i] = \"string\"\n",
        "print(lista)"
      ],
      "metadata": {
        "colab": {
          "base_uri": "https://localhost:8080/"
        },
        "id": "exjHWh3rF-h_",
        "outputId": "2f9330f6-600c-4fb7-d973-9ffde863fdbb"
      },
      "execution_count": 3,
      "outputs": [
        {
          "output_type": "stream",
          "name": "stdout",
          "text": [
            "[6, 2, 3, 7, 1, 'string', 'string', 'string']\n"
          ]
        }
      ]
    },
    {
      "cell_type": "code",
      "source": [
        "#podpunkt b / prostszy sposób\n",
        "lista = [6, 2, 3, 7, 1, 12, 56, 99]\n",
        "print(min(lista))"
      ],
      "metadata": {
        "colab": {
          "base_uri": "https://localhost:8080/"
        },
        "id": "cApEscz-Grce",
        "outputId": "687fa547-28ac-4ff4-962e-5c12164a8707"
      },
      "execution_count": 4,
      "outputs": [
        {
          "output_type": "stream",
          "name": "stdout",
          "text": [
            "1\n"
          ]
        }
      ]
    },
    {
      "cell_type": "code",
      "source": [
        "# Alternatywny podpunkt b\n",
        "for i in range(len(lista)):\n",
        "  if lista[i] < lista[i - 1]:\n",
        "    less = lista[i]\n",
        "print(less)"
      ],
      "metadata": {
        "id": "Yy1rcIr3JrKQ",
        "colab": {
          "base_uri": "https://localhost:8080/"
        },
        "outputId": "a8b94ef3-54d1-4537-d56c-f8edfb018719"
      },
      "execution_count": 5,
      "outputs": [
        {
          "output_type": "stream",
          "name": "stdout",
          "text": [
            "1\n"
          ]
        }
      ]
    }
  ]
}