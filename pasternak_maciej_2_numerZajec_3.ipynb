{
  "nbformat": 4,
  "nbformat_minor": 0,
  "metadata": {
    "colab": {
      "provenance": []
    },
    "kernelspec": {
      "name": "python3",
      "display_name": "Python 3"
    },
    "language_info": {
      "name": "python"
    }
  },
  "cells": [
    {
      "cell_type": "markdown",
      "source": [
        "Zadanie 1"
      ],
      "metadata": {
        "id": "SPWP7HpSrp9J"
      }
    },
    {
      "cell_type": "code",
      "execution_count": 2,
      "metadata": {
        "colab": {
          "base_uri": "https://localhost:8080/"
        },
        "id": "HlQB-CLBrfod",
        "outputId": "7c8b4f8d-90e9-4e49-b0db-1b14fde46f14"
      },
      "outputs": [
        {
          "output_type": "stream",
          "name": "stdout",
          "text": [
            "Podaj imie swe: Maciek\n",
            "Podaj nazwisko swe: Pas\n",
            "Podaja lata swe: 5\n",
            "Podaj hasło swe: ke\n",
            "Podaj hasło swe !ponownie!:o\n",
            "Błąd, hasła się nie zgadzają\n"
          ]
        }
      ],
      "source": [
        "Imie = input(\"Podaj imie swe: \")\n",
        "Nazwisko = input(\"Podaj nazwisko swe: \")\n",
        "if Imie.isalpha() and Nazwisko.isalpha():\n",
        "  Wiek = input(\"Podaja lata swe: \")\n",
        "  if Wiek.isdigit():\n",
        "    Wiek = int(Wiek)\n",
        "    Haslo = input(\"Podaj hasło swe: \")\n",
        "    Haslo_two = input(\"Podaj hasło swe !ponownie!:\")\n",
        "    if Haslo != Haslo_two:\n",
        "      print(\"Błąd, hasła się nie zgadzają\")\n",
        "    else:\n",
        "      telefon = input(\"Podaj numer telefonu: \")\n",
        "      if len(telefon) > 9:\n",
        "          telefon = telefon.replace(\" \",\"\")\n",
        "          telefon = telefon.replace(\"-\",\"\")\n",
        "          if telefon.isdigit() and len(telefon) == 9:\n",
        "            print(\"\")\n",
        "            print(\"Dane:\")\n",
        "            print(\"Imię to: \", Imie)\n",
        "            print(\"Nazwisko to: \", Nazwisko)\n",
        "            print(\"Wiek to: \", Wiek)\n",
        "            print(\"Hasło to: \", Haslo)\n",
        "            print(\"Numer telefonu to: \", telefon)\n",
        "          else:\n",
        "            print(\"Nieprawidłowy numer telefonu\")\n",
        "      elif len(telefon) == 9 and telefon.isdigit():\n",
        "        print(\"\")\n",
        "        print(\"Dane:\")\n",
        "        print(\"Imię to: \", Imie)\n",
        "        print(\"Nazwisko to: \", Nazwisko)\n",
        "        print(\"Wiek to: \", Wiek)\n",
        "        print(\"Hasło to: \", Haslo)\n",
        "        print(\"Numer telefonu to: \", telefon)\n",
        "      else:\n",
        "        print(\"Nieprawidłowy numer telefonu\")\n",
        "else:\n",
        "  print(\"Wystąpił błąd\")"
      ]
    },
    {
      "cell_type": "markdown",
      "source": [
        "Zadanie 2"
      ],
      "metadata": {
        "id": "VZ6s7kHDsOrt"
      }
    },
    {
      "cell_type": "code",
      "source": [
        "print(\"Kalkulator :D \")\n",
        "Liczba_1 = input(\"Wpisz liczbe pierwsza \")\n",
        "Liczba_2 = input(\"Wpisz liczbe druga \")\n",
        "if Liczba_1.isdigit() and Liczba_2.isdigit():\n",
        "  Liczba_1 = int(Liczba_1)\n",
        "  Liczba_2 = int(Liczba_2)\n",
        "  print(\"Jakie działanie chcesz przeprowadzić?\")\n",
        "  print(\"\"\"Symbole działań: + > dodawanie| - > odejmowanie| * > mnożenie|\n",
        "  / > dzielenie| ** > potęgowanie| % > coś idk\"\"\")\n",
        "  dzialanie = input(\"Podaj działanie (wstaw symbol)\")\n",
        "  if dzialanie == (\"+\"):\n",
        "    print(\"Wynik dzialania to \", Liczba_1 + Liczba_2)\n",
        "  elif dzialanie ==(\"-\"):\n",
        "    print(\"Wynik dzialania to \", Liczba_1 - Liczba_2)\n",
        "  elif dzialanie ==(\"*\"):\n",
        "    print(\"Wynik dzialania to \", Liczba_1 * Liczba_2)\n",
        "  elif dzialanie ==(\"/\"):\n",
        "    print(\"Wynik dzialania to \", Liczba_1 / Liczba_2)\n",
        "  elif dzialanie ==(\"**\"):\n",
        "    print(\"Wynik dzialania to \", Liczba_1 ** Liczba_2)\n",
        "  elif dzialanie ==(\"%\"):\n",
        "    print(\"Wynik dzialania to \", Liczba_1 % Liczba_2)\n",
        "  else:\n",
        "    print(\"!ERROR! Nie ma takiego typu działania !ERROR!\")\n",
        "else:\n",
        "  print(\"Błąd, Spróbuj jeszcze raz\")"
      ],
      "metadata": {
        "colab": {
          "base_uri": "https://localhost:8080/"
        },
        "id": "kGkmNM44sQEz",
        "outputId": "b9672949-f177-43fb-fcaf-39b13c1ed9b7"
      },
      "execution_count": null,
      "outputs": [
        {
          "output_type": "stream",
          "name": "stdout",
          "text": [
            "Kalkulator :D \n",
            "Wpisz liczbe pierwsza e\n",
            "Wpisz liczbe druga 3\n",
            "Błąd, Spróbuj jeszcze raz\n"
          ]
        }
      ]
    }
  ]
}