{
  "nbformat": 4,
  "nbformat_minor": 0,
  "metadata": {
    "colab": {
      "provenance": []
    },
    "kernelspec": {
      "name": "python3",
      "display_name": "Python 3"
    },
    "language_info": {
      "name": "python"
    }
  },
  "cells": [
    {
      "cell_type": "code",
      "execution_count": 5,
      "metadata": {
        "id": "9XpAAgMuTGru"
      },
      "outputs": [],
      "source": [
        "import re\n",
        "import regex as re"
      ]
    },
    {
      "cell_type": "code",
      "source": [
        "name = []\n",
        "date = []\n",
        "handy = []"
      ],
      "metadata": {
        "id": "_hcbGne0b7rG"
      },
      "execution_count": 2,
      "outputs": []
    },
    {
      "cell_type": "code",
      "source": [
        "tekst1 = \"Imię i nazwisko: Hubar, Patryk. Data urodzenia: 7 czerwca 1993. Numer telefonu: 123-456-789\"\n",
        "tekst2 = \"Imię i nazwisko: Mickiewicz, Adam. Data urodzenia: 22 stycznia 1877. Numer telefonu: 789456123\""
      ],
      "metadata": {
        "id": "D_ekx4VzTnEc"
      },
      "execution_count": 4,
      "outputs": []
    },
    {
      "cell_type": "code",
      "source": [
        "def text_mining(text):\n",
        "  name.append(re.findall(\"[A-Z][a-z]*+\\, [A-Z][a-z]*\", text)) # dodaje imie ze stringu do listy name\n",
        "  date.append(re.findall(\"\\d+\\s[a-z]*+\\s\\d*\", text)) # dodaje datę ze stringa do listy date\n",
        "  handy.append(re.findall(\"\\d{9}|\\d*\\-\\d*\\-\\d*\",text)) # dodaje nr telefonu do listy handy\n",
        "  return \"done\""
      ],
      "metadata": {
        "id": "e0NJo6SGaEDC"
      },
      "execution_count": 6,
      "outputs": []
    },
    {
      "cell_type": "code",
      "source": [
        "text_mining(tekst1)\n",
        "text_mining(tekst2)"
      ],
      "metadata": {
        "colab": {
          "base_uri": "https://localhost:8080/",
          "height": 35
        },
        "id": "fmVYeToyblGk",
        "outputId": "a7750e08-b3f7-4b06-e207-f55103cc915d"
      },
      "execution_count": 7,
      "outputs": [
        {
          "output_type": "execute_result",
          "data": {
            "text/plain": [
              "'done'"
            ],
            "application/vnd.google.colaboratory.intrinsic+json": {
              "type": "string"
            }
          },
          "metadata": {},
          "execution_count": 7
        }
      ]
    },
    {
      "cell_type": "code",
      "source": [
        "print(f\"imiona i nazwiska: {name}\")\n",
        "print(f\"daty: {date}\")\n",
        "print(f\"numery telefonu: {handy}\")"
      ],
      "metadata": {
        "colab": {
          "base_uri": "https://localhost:8080/"
        },
        "id": "kAWVRlA7cNGo",
        "outputId": "5f14709c-01bb-46ec-a8e4-a4660052b2f3"
      },
      "execution_count": 8,
      "outputs": [
        {
          "output_type": "stream",
          "name": "stdout",
          "text": [
            "imiona i nazwiska: [['Hubar, Patryk'], ['Mickiewicz, Adam']]\n",
            "daty: [['7 czerwca 1993'], ['22 stycznia 1877']]\n",
            "numery telefonu: [['123-456-789'], ['789456123']]\n"
          ]
        }
      ]
    }
  ]
}